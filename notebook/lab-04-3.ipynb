{
 "cells": [
  {
   "cell_type": "code",
   "execution_count": 2,
   "metadata": {
    "collapsed": true
   },
   "outputs": [],
   "source": [
    "import tensorflow as tf\n",
    "import numpy as np\n",
    "tf.set_random_seed(777)"
   ]
  },
  {
   "cell_type": "code",
   "execution_count": 3,
   "metadata": {
    "collapsed": true
   },
   "outputs": [],
   "source": [
    "xy = np.loadtxt('../data-01-test-score.csv', delimiter=',', dtype=np.float32)"
   ]
  },
  {
   "cell_type": "code",
   "execution_count": 5,
   "metadata": {
    "collapsed": true
   },
   "outputs": [],
   "source": [
    "x_data = xy[:, 0:-1]\n",
    "y_data = xy[:, [-1]]"
   ]
  },
  {
   "cell_type": "code",
   "execution_count": 6,
   "metadata": {
    "collapsed": false
   },
   "outputs": [
    {
     "data": {
      "text/plain": [
       "array([[  73.,   80.,   75.],\n",
       "       [  93.,   88.,   93.],\n",
       "       [  89.,   91.,   90.],\n",
       "       [  96.,   98.,  100.],\n",
       "       [  73.,   66.,   70.],\n",
       "       [  53.,   46.,   55.],\n",
       "       [  69.,   74.,   77.],\n",
       "       [  47.,   56.,   60.],\n",
       "       [  87.,   79.,   90.],\n",
       "       [  79.,   70.,   88.],\n",
       "       [  69.,   70.,   73.],\n",
       "       [  70.,   65.,   74.],\n",
       "       [  93.,   95.,   91.],\n",
       "       [  79.,   80.,   73.],\n",
       "       [  70.,   73.,   78.],\n",
       "       [  93.,   89.,   96.],\n",
       "       [  78.,   75.,   68.],\n",
       "       [  81.,   90.,   93.],\n",
       "       [  88.,   92.,   86.],\n",
       "       [  78.,   83.,   77.],\n",
       "       [  82.,   86.,   90.],\n",
       "       [  86.,   82.,   89.],\n",
       "       [  78.,   83.,   85.],\n",
       "       [  76.,   83.,   71.],\n",
       "       [  96.,   93.,   95.]], dtype=float32)"
      ]
     },
     "execution_count": 6,
     "metadata": {},
     "output_type": "execute_result"
    }
   ],
   "source": [
    "x_data"
   ]
  },
  {
   "cell_type": "code",
   "execution_count": 7,
   "metadata": {
    "collapsed": false
   },
   "outputs": [
    {
     "data": {
      "text/plain": [
       "array([[ 152.],\n",
       "       [ 185.],\n",
       "       [ 180.],\n",
       "       [ 196.],\n",
       "       [ 142.],\n",
       "       [ 101.],\n",
       "       [ 149.],\n",
       "       [ 115.],\n",
       "       [ 175.],\n",
       "       [ 164.],\n",
       "       [ 141.],\n",
       "       [ 141.],\n",
       "       [ 184.],\n",
       "       [ 152.],\n",
       "       [ 148.],\n",
       "       [ 192.],\n",
       "       [ 147.],\n",
       "       [ 183.],\n",
       "       [ 177.],\n",
       "       [ 159.],\n",
       "       [ 177.],\n",
       "       [ 175.],\n",
       "       [ 175.],\n",
       "       [ 149.],\n",
       "       [ 192.]], dtype=float32)"
      ]
     },
     "execution_count": 7,
     "metadata": {},
     "output_type": "execute_result"
    }
   ],
   "source": [
    "y_data"
   ]
  },
  {
   "cell_type": "code",
   "execution_count": 10,
   "metadata": {
    "collapsed": true
   },
   "outputs": [],
   "source": [
    "X = tf.placeholder(tf.float32, shape=[None, 3])\n",
    "Y = tf.placeholder(tf.float32, shape=[None, 1])"
   ]
  },
  {
   "cell_type": "code",
   "execution_count": 11,
   "metadata": {
    "collapsed": true
   },
   "outputs": [],
   "source": [
    "W = tf.Variable(tf.random_normal([3,1]), name='weight')\n",
    "b = tf.Variable(tf.random_normal([1]), name='bias')"
   ]
  },
  {
   "cell_type": "code",
   "execution_count": 12,
   "metadata": {
    "collapsed": true
   },
   "outputs": [],
   "source": [
    "hypothesis = tf.matmul(X, W) + b"
   ]
  },
  {
   "cell_type": "code",
   "execution_count": 13,
   "metadata": {
    "collapsed": true
   },
   "outputs": [],
   "source": [
    "cost = tf.reduce_mean(tf.square(hypothesis - Y))"
   ]
  },
  {
   "cell_type": "code",
   "execution_count": 14,
   "metadata": {
    "collapsed": true
   },
   "outputs": [],
   "source": [
    "optimizer = tf.train.GradientDescentOptimizer(learning_rate=1e-5)\n",
    "train = optimizer.minimize(cost)"
   ]
  },
  {
   "cell_type": "code",
   "execution_count": 15,
   "metadata": {
    "collapsed": true
   },
   "outputs": [],
   "source": [
    "sess = tf.Session()\n",
    "sess.run(tf.global_variables_initializer())"
   ]
  },
  {
   "cell_type": "code",
   "execution_count": null,
   "metadata": {
    "collapsed": true
   },
   "outputs": [],
   "source": [
    "for step in range(2000):\n",
    "    cost_val, hy_val, _ = sess.run()"
   ]
  }
 ],
 "metadata": {
  "kernelspec": {
   "display_name": "Python 3",
   "language": "python",
   "name": "python3"
  },
  "language_info": {
   "codemirror_mode": {
    "name": "ipython",
    "version": 3
   },
   "file_extension": ".py",
   "mimetype": "text/x-python",
   "name": "python",
   "nbconvert_exporter": "python",
   "pygments_lexer": "ipython3",
   "version": "3.5.2"
  }
 },
 "nbformat": 4,
 "nbformat_minor": 1
}
